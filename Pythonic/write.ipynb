{
 "cells": [
  {
   "cell_type": "markdown",
   "id": "1c38e409",
   "metadata": {},
   "source": [
    "#### List Comprehensions"
   ]
  },
  {
   "cell_type": "code",
   "execution_count": 1,
   "id": "5410ef67",
   "metadata": {},
   "outputs": [],
   "source": [
    "squares = []\n",
    "for x in range(10):\n",
    "    squares.append(x ** 2)"
   ]
  },
  {
   "cell_type": "code",
   "execution_count": 3,
   "id": "c352df82",
   "metadata": {},
   "outputs": [],
   "source": [
    "# pythonic\n",
    "squares = [x ** 2 for x in range(10)]"
   ]
  },
  {
   "cell_type": "code",
   "execution_count": 7,
   "id": "e1662148",
   "metadata": {},
   "outputs": [
    {
     "name": "stdout",
     "output_type": "stream",
     "text": [
      "[2, 4, 6]\n"
     ]
    }
   ],
   "source": [
    "numbers=[1,2,3,4,5,6]\n",
    "\n",
    "# Pythonic\n",
    "even_num = [num for num in numbers if num % 2 == 0]\n",
    "print(even_num)"
   ]
  },
  {
   "cell_type": "code",
   "execution_count": 8,
   "id": "4627fc50",
   "metadata": {},
   "outputs": [
    {
     "name": "stdout",
     "output_type": "stream",
     "text": [
      "[2, 4, 6]\n"
     ]
    }
   ],
   "source": [
    "even_numbers=[]\n",
    "\n",
    "for num in numbers:\n",
    "    if num % 2 == 0:\n",
    "        even_numbers.append(num)\n",
    "\n",
    "print(even_numbers)"
   ]
  },
  {
   "cell_type": "markdown",
   "id": "a1da5cda",
   "metadata": {},
   "source": [
    "#### Using enumerate()"
   ]
  },
  {
   "cell_type": "code",
   "execution_count": 5,
   "id": "7debb530",
   "metadata": {},
   "outputs": [],
   "source": [
    "my_list=[]\n",
    "\n",
    "i = 0\n",
    "for item in my_list:\n",
    "    print(i, item)\n",
    "    i += 1"
   ]
  },
  {
   "cell_type": "code",
   "execution_count": 6,
   "id": "0f2b2236",
   "metadata": {},
   "outputs": [],
   "source": [
    "# pythonic\n",
    "for i, item in enumerate(my_list):\n",
    "    print(i, item)"
   ]
  },
  {
   "cell_type": "markdown",
   "id": "3465d17d",
   "metadata": {},
   "source": [
    "#### Using Zip()"
   ]
  },
  {
   "cell_type": "code",
   "execution_count": 9,
   "id": "3ca98e02",
   "metadata": {},
   "outputs": [],
   "source": [
    "names = ['Alice', 'Rasya', 'Denny', 'Wingko']\n",
    "score = [80, 77, 92, 69]"
   ]
  },
  {
   "cell_type": "code",
   "execution_count": 12,
   "id": "24dda97a",
   "metadata": {},
   "outputs": [
    {
     "name": "stdout",
     "output_type": "stream",
     "text": [
      "{'Alice': 80, 'Rasya': 77, 'Denny': 92, 'Wingko': 69}\n"
     ]
    }
   ],
   "source": [
    "# Common Code\n",
    "combined ={}\n",
    "for i in range(len(names)):\n",
    "    combined[names[i]] = score[i]\n",
    "\n",
    "print(combined)"
   ]
  },
  {
   "cell_type": "code",
   "execution_count": 13,
   "id": "2390eb32",
   "metadata": {},
   "outputs": [
    {
     "name": "stdout",
     "output_type": "stream",
     "text": [
      "{'Alice': 80, 'Rasya': 77, 'Denny': 92, 'Wingko': 69}\n"
     ]
    }
   ],
   "source": [
    "#pythonic\n",
    "\n",
    "combined1 = dict(zip(names, score))\n",
    "print(combined1)"
   ]
  },
  {
   "cell_type": "markdown",
   "id": "832b0650",
   "metadata": {},
   "source": [
    "####  any() dan all()"
   ]
  },
  {
   "cell_type": "code",
   "execution_count": 27,
   "id": "127d87b7",
   "metadata": {},
   "outputs": [
    {
     "name": "stdout",
     "output_type": "stream",
     "text": [
      "-3 is negatif\n",
      "-5 is negatif\n"
     ]
    }
   ],
   "source": [
    "numbers = [1,2,3,4,5,6,7,8,99,-3,-5]\n",
    "\n",
    "# Common COde\n",
    "positive = True\n",
    "\n",
    "for n in numbers:\n",
    "    if n <= 0:\n",
    "        positive = False\n",
    "        print(f\"{n} is negatif\")\n",
    "        # break\n",
    "\n",
    "if positive:\n",
    "    print(\"Semua angka Positive\")"
   ]
  },
  {
   "cell_type": "code",
   "execution_count": 28,
   "id": "3b798afe",
   "metadata": {},
   "outputs": [
    {
     "name": "stdout",
     "output_type": "stream",
     "text": [
      "contain negatif number is -5\n"
     ]
    }
   ],
   "source": [
    "# Pythonic\n",
    "if all(n > 0 for i in numbers):\n",
    "    print(\"semua angka Positif\")\n",
    "else:\n",
    "    print(f\"contain negatif number is {n}\")"
   ]
  },
  {
   "cell_type": "markdown",
   "id": "94e4f17e",
   "metadata": {},
   "source": [
    "#### join()"
   ]
  },
  {
   "cell_type": "code",
   "execution_count": 31,
   "id": "659194ef",
   "metadata": {},
   "outputs": [
    {
     "name": "stdout",
     "output_type": "stream",
     "text": [
      "python itu keren lho\n"
     ]
    }
   ],
   "source": [
    "words = [\"python\", \"itu\", \"keren\", \"lho\"]\n",
    "\n",
    "#common \n",
    "sentence =\"\"\n",
    "for word in words:\n",
    "    sentence += word + \" \"\n",
    "\n",
    "sentence = sentence.strip()\n",
    "print(sentence)"
   ]
  },
  {
   "cell_type": "code",
   "execution_count": 33,
   "id": "d5f99e3d",
   "metadata": {},
   "outputs": [
    {
     "name": "stdout",
     "output_type": "stream",
     "text": [
      "python itu keren lho\n"
     ]
    }
   ],
   "source": [
    "sentence =\" \".join(words)\n",
    "print(sentence)"
   ]
  },
  {
   "cell_type": "code",
   "execution_count": null,
   "id": "5dc4aee9",
   "metadata": {},
   "outputs": [],
   "source": []
  }
 ],
 "metadata": {
  "kernelspec": {
   "display_name": "Python 3",
   "language": "python",
   "name": "python3"
  },
  "language_info": {
   "codemirror_mode": {
    "name": "ipython",
    "version": 3
   },
   "file_extension": ".py",
   "mimetype": "text/x-python",
   "name": "python",
   "nbconvert_exporter": "python",
   "pygments_lexer": "ipython3",
   "version": "3.13.4"
  }
 },
 "nbformat": 4,
 "nbformat_minor": 5
}
