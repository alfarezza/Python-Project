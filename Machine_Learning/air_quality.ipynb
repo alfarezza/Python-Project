{
 "cells": [
  {
   "cell_type": "markdown",
   "id": "d5788dbd",
   "metadata": {},
   "source": [
    "### Introduction"
   ]
  },
  {
   "cell_type": "markdown",
   "id": "5183d0ba",
   "metadata": {},
   "source": [
    "|CO(GT)|Feature|Integer|True hourly averaged concentration CO in mg/m^3 (reference analyzer) | mg/m^3 |\tno"
   ]
  },
  {
   "cell_type": "code",
   "execution_count": 1,
   "id": "41619e22",
   "metadata": {},
   "outputs": [],
   "source": [
    "import pandas as pd\n",
    "import numpy as np\n",
    "import matplotlib.pyplot as plt\n",
    "import seaborn as sns"
   ]
  },
  {
   "cell_type": "markdown",
   "id": "e82a963c",
   "metadata": {},
   "source": [
    "### Read Data Set"
   ]
  },
  {
   "cell_type": "code",
   "execution_count": 2,
   "id": "f051e88c",
   "metadata": {},
   "outputs": [],
   "source": [
    "df = pd.read_csv(r\"C:\\Users\\ryana\\Downloads\\DataSet\\AirQualityUCI.csv\", sep=';')\n",
    "pd.set_option('display.max_columns', None)"
   ]
  },
  {
   "cell_type": "code",
   "execution_count": 3,
   "id": "6b982b4e",
   "metadata": {},
   "outputs": [
    {
     "data": {
      "text/html": [
       "<div>\n",
       "<style scoped>\n",
       "    .dataframe tbody tr th:only-of-type {\n",
       "        vertical-align: middle;\n",
       "    }\n",
       "\n",
       "    .dataframe tbody tr th {\n",
       "        vertical-align: top;\n",
       "    }\n",
       "\n",
       "    .dataframe thead th {\n",
       "        text-align: right;\n",
       "    }\n",
       "</style>\n",
       "<table border=\"1\" class=\"dataframe\">\n",
       "  <thead>\n",
       "    <tr style=\"text-align: right;\">\n",
       "      <th></th>\n",
       "      <th>Date</th>\n",
       "      <th>Time</th>\n",
       "      <th>CO(GT)</th>\n",
       "      <th>PT08.S1(CO)</th>\n",
       "      <th>NMHC(GT)</th>\n",
       "      <th>C6H6(GT)</th>\n",
       "      <th>PT08.S2(NMHC)</th>\n",
       "      <th>NOx(GT)</th>\n",
       "      <th>PT08.S3(NOx)</th>\n",
       "      <th>NO2(GT)</th>\n",
       "      <th>PT08.S4(NO2)</th>\n",
       "      <th>PT08.S5(O3)</th>\n",
       "      <th>T</th>\n",
       "      <th>RH</th>\n",
       "      <th>AH</th>\n",
       "      <th>Unnamed: 15</th>\n",
       "      <th>Unnamed: 16</th>\n",
       "    </tr>\n",
       "  </thead>\n",
       "  <tbody>\n",
       "    <tr>\n",
       "      <th>0</th>\n",
       "      <td>10/03/2004</td>\n",
       "      <td>18.00.00</td>\n",
       "      <td>2,6</td>\n",
       "      <td>1360.0</td>\n",
       "      <td>150.0</td>\n",
       "      <td>11,9</td>\n",
       "      <td>1046.0</td>\n",
       "      <td>166.0</td>\n",
       "      <td>1056.0</td>\n",
       "      <td>113.0</td>\n",
       "      <td>1692.0</td>\n",
       "      <td>1268.0</td>\n",
       "      <td>13,6</td>\n",
       "      <td>48,9</td>\n",
       "      <td>0,7578</td>\n",
       "      <td>NaN</td>\n",
       "      <td>NaN</td>\n",
       "    </tr>\n",
       "    <tr>\n",
       "      <th>1</th>\n",
       "      <td>10/03/2004</td>\n",
       "      <td>19.00.00</td>\n",
       "      <td>2</td>\n",
       "      <td>1292.0</td>\n",
       "      <td>112.0</td>\n",
       "      <td>9,4</td>\n",
       "      <td>955.0</td>\n",
       "      <td>103.0</td>\n",
       "      <td>1174.0</td>\n",
       "      <td>92.0</td>\n",
       "      <td>1559.0</td>\n",
       "      <td>972.0</td>\n",
       "      <td>13,3</td>\n",
       "      <td>47,7</td>\n",
       "      <td>0,7255</td>\n",
       "      <td>NaN</td>\n",
       "      <td>NaN</td>\n",
       "    </tr>\n",
       "    <tr>\n",
       "      <th>2</th>\n",
       "      <td>10/03/2004</td>\n",
       "      <td>20.00.00</td>\n",
       "      <td>2,2</td>\n",
       "      <td>1402.0</td>\n",
       "      <td>88.0</td>\n",
       "      <td>9,0</td>\n",
       "      <td>939.0</td>\n",
       "      <td>131.0</td>\n",
       "      <td>1140.0</td>\n",
       "      <td>114.0</td>\n",
       "      <td>1555.0</td>\n",
       "      <td>1074.0</td>\n",
       "      <td>11,9</td>\n",
       "      <td>54,0</td>\n",
       "      <td>0,7502</td>\n",
       "      <td>NaN</td>\n",
       "      <td>NaN</td>\n",
       "    </tr>\n",
       "    <tr>\n",
       "      <th>3</th>\n",
       "      <td>10/03/2004</td>\n",
       "      <td>21.00.00</td>\n",
       "      <td>2,2</td>\n",
       "      <td>1376.0</td>\n",
       "      <td>80.0</td>\n",
       "      <td>9,2</td>\n",
       "      <td>948.0</td>\n",
       "      <td>172.0</td>\n",
       "      <td>1092.0</td>\n",
       "      <td>122.0</td>\n",
       "      <td>1584.0</td>\n",
       "      <td>1203.0</td>\n",
       "      <td>11,0</td>\n",
       "      <td>60,0</td>\n",
       "      <td>0,7867</td>\n",
       "      <td>NaN</td>\n",
       "      <td>NaN</td>\n",
       "    </tr>\n",
       "    <tr>\n",
       "      <th>4</th>\n",
       "      <td>10/03/2004</td>\n",
       "      <td>22.00.00</td>\n",
       "      <td>1,6</td>\n",
       "      <td>1272.0</td>\n",
       "      <td>51.0</td>\n",
       "      <td>6,5</td>\n",
       "      <td>836.0</td>\n",
       "      <td>131.0</td>\n",
       "      <td>1205.0</td>\n",
       "      <td>116.0</td>\n",
       "      <td>1490.0</td>\n",
       "      <td>1110.0</td>\n",
       "      <td>11,2</td>\n",
       "      <td>59,6</td>\n",
       "      <td>0,7888</td>\n",
       "      <td>NaN</td>\n",
       "      <td>NaN</td>\n",
       "    </tr>\n",
       "    <tr>\n",
       "      <th>...</th>\n",
       "      <td>...</td>\n",
       "      <td>...</td>\n",
       "      <td>...</td>\n",
       "      <td>...</td>\n",
       "      <td>...</td>\n",
       "      <td>...</td>\n",
       "      <td>...</td>\n",
       "      <td>...</td>\n",
       "      <td>...</td>\n",
       "      <td>...</td>\n",
       "      <td>...</td>\n",
       "      <td>...</td>\n",
       "      <td>...</td>\n",
       "      <td>...</td>\n",
       "      <td>...</td>\n",
       "      <td>...</td>\n",
       "      <td>...</td>\n",
       "    </tr>\n",
       "    <tr>\n",
       "      <th>9466</th>\n",
       "      <td>NaN</td>\n",
       "      <td>NaN</td>\n",
       "      <td>NaN</td>\n",
       "      <td>NaN</td>\n",
       "      <td>NaN</td>\n",
       "      <td>NaN</td>\n",
       "      <td>NaN</td>\n",
       "      <td>NaN</td>\n",
       "      <td>NaN</td>\n",
       "      <td>NaN</td>\n",
       "      <td>NaN</td>\n",
       "      <td>NaN</td>\n",
       "      <td>NaN</td>\n",
       "      <td>NaN</td>\n",
       "      <td>NaN</td>\n",
       "      <td>NaN</td>\n",
       "      <td>NaN</td>\n",
       "    </tr>\n",
       "    <tr>\n",
       "      <th>9467</th>\n",
       "      <td>NaN</td>\n",
       "      <td>NaN</td>\n",
       "      <td>NaN</td>\n",
       "      <td>NaN</td>\n",
       "      <td>NaN</td>\n",
       "      <td>NaN</td>\n",
       "      <td>NaN</td>\n",
       "      <td>NaN</td>\n",
       "      <td>NaN</td>\n",
       "      <td>NaN</td>\n",
       "      <td>NaN</td>\n",
       "      <td>NaN</td>\n",
       "      <td>NaN</td>\n",
       "      <td>NaN</td>\n",
       "      <td>NaN</td>\n",
       "      <td>NaN</td>\n",
       "      <td>NaN</td>\n",
       "    </tr>\n",
       "    <tr>\n",
       "      <th>9468</th>\n",
       "      <td>NaN</td>\n",
       "      <td>NaN</td>\n",
       "      <td>NaN</td>\n",
       "      <td>NaN</td>\n",
       "      <td>NaN</td>\n",
       "      <td>NaN</td>\n",
       "      <td>NaN</td>\n",
       "      <td>NaN</td>\n",
       "      <td>NaN</td>\n",
       "      <td>NaN</td>\n",
       "      <td>NaN</td>\n",
       "      <td>NaN</td>\n",
       "      <td>NaN</td>\n",
       "      <td>NaN</td>\n",
       "      <td>NaN</td>\n",
       "      <td>NaN</td>\n",
       "      <td>NaN</td>\n",
       "    </tr>\n",
       "    <tr>\n",
       "      <th>9469</th>\n",
       "      <td>NaN</td>\n",
       "      <td>NaN</td>\n",
       "      <td>NaN</td>\n",
       "      <td>NaN</td>\n",
       "      <td>NaN</td>\n",
       "      <td>NaN</td>\n",
       "      <td>NaN</td>\n",
       "      <td>NaN</td>\n",
       "      <td>NaN</td>\n",
       "      <td>NaN</td>\n",
       "      <td>NaN</td>\n",
       "      <td>NaN</td>\n",
       "      <td>NaN</td>\n",
       "      <td>NaN</td>\n",
       "      <td>NaN</td>\n",
       "      <td>NaN</td>\n",
       "      <td>NaN</td>\n",
       "    </tr>\n",
       "    <tr>\n",
       "      <th>9470</th>\n",
       "      <td>NaN</td>\n",
       "      <td>NaN</td>\n",
       "      <td>NaN</td>\n",
       "      <td>NaN</td>\n",
       "      <td>NaN</td>\n",
       "      <td>NaN</td>\n",
       "      <td>NaN</td>\n",
       "      <td>NaN</td>\n",
       "      <td>NaN</td>\n",
       "      <td>NaN</td>\n",
       "      <td>NaN</td>\n",
       "      <td>NaN</td>\n",
       "      <td>NaN</td>\n",
       "      <td>NaN</td>\n",
       "      <td>NaN</td>\n",
       "      <td>NaN</td>\n",
       "      <td>NaN</td>\n",
       "    </tr>\n",
       "  </tbody>\n",
       "</table>\n",
       "<p>9471 rows × 17 columns</p>\n",
       "</div>"
      ],
      "text/plain": [
       "            Date      Time CO(GT)  PT08.S1(CO)  NMHC(GT) C6H6(GT)  \\\n",
       "0     10/03/2004  18.00.00    2,6       1360.0     150.0     11,9   \n",
       "1     10/03/2004  19.00.00      2       1292.0     112.0      9,4   \n",
       "2     10/03/2004  20.00.00    2,2       1402.0      88.0      9,0   \n",
       "3     10/03/2004  21.00.00    2,2       1376.0      80.0      9,2   \n",
       "4     10/03/2004  22.00.00    1,6       1272.0      51.0      6,5   \n",
       "...          ...       ...    ...          ...       ...      ...   \n",
       "9466         NaN       NaN    NaN          NaN       NaN      NaN   \n",
       "9467         NaN       NaN    NaN          NaN       NaN      NaN   \n",
       "9468         NaN       NaN    NaN          NaN       NaN      NaN   \n",
       "9469         NaN       NaN    NaN          NaN       NaN      NaN   \n",
       "9470         NaN       NaN    NaN          NaN       NaN      NaN   \n",
       "\n",
       "      PT08.S2(NMHC)  NOx(GT)  PT08.S3(NOx)  NO2(GT)  PT08.S4(NO2)  \\\n",
       "0            1046.0    166.0        1056.0    113.0        1692.0   \n",
       "1             955.0    103.0        1174.0     92.0        1559.0   \n",
       "2             939.0    131.0        1140.0    114.0        1555.0   \n",
       "3             948.0    172.0        1092.0    122.0        1584.0   \n",
       "4             836.0    131.0        1205.0    116.0        1490.0   \n",
       "...             ...      ...           ...      ...           ...   \n",
       "9466            NaN      NaN           NaN      NaN           NaN   \n",
       "9467            NaN      NaN           NaN      NaN           NaN   \n",
       "9468            NaN      NaN           NaN      NaN           NaN   \n",
       "9469            NaN      NaN           NaN      NaN           NaN   \n",
       "9470            NaN      NaN           NaN      NaN           NaN   \n",
       "\n",
       "      PT08.S5(O3)     T    RH      AH  Unnamed: 15  Unnamed: 16  \n",
       "0          1268.0  13,6  48,9  0,7578          NaN          NaN  \n",
       "1           972.0  13,3  47,7  0,7255          NaN          NaN  \n",
       "2          1074.0  11,9  54,0  0,7502          NaN          NaN  \n",
       "3          1203.0  11,0  60,0  0,7867          NaN          NaN  \n",
       "4          1110.0  11,2  59,6  0,7888          NaN          NaN  \n",
       "...           ...   ...   ...     ...          ...          ...  \n",
       "9466          NaN   NaN   NaN     NaN          NaN          NaN  \n",
       "9467          NaN   NaN   NaN     NaN          NaN          NaN  \n",
       "9468          NaN   NaN   NaN     NaN          NaN          NaN  \n",
       "9469          NaN   NaN   NaN     NaN          NaN          NaN  \n",
       "9470          NaN   NaN   NaN     NaN          NaN          NaN  \n",
       "\n",
       "[9471 rows x 17 columns]"
      ]
     },
     "execution_count": 3,
     "metadata": {},
     "output_type": "execute_result"
    }
   ],
   "source": [
    "df"
   ]
  },
  {
   "cell_type": "markdown",
   "id": "a1530e82",
   "metadata": {},
   "source": [
    "### Data Summary"
   ]
  },
  {
   "cell_type": "code",
   "execution_count": null,
   "id": "020cbe25",
   "metadata": {},
   "outputs": [],
   "source": [
    "df.info()"
   ]
  },
  {
   "cell_type": "code",
   "execution_count": null,
   "id": "c3e68708",
   "metadata": {},
   "outputs": [],
   "source": [
    "df.columns"
   ]
  },
  {
   "cell_type": "code",
   "execution_count": null,
   "id": "eb5a834c",
   "metadata": {},
   "outputs": [],
   "source": [
    "df.duplicated().sum()"
   ]
  },
  {
   "cell_type": "code",
   "execution_count": null,
   "id": "0d08d7bc",
   "metadata": {},
   "outputs": [],
   "source": [
    "df.shape"
   ]
  },
  {
   "cell_type": "markdown",
   "id": "bb4b4ea2",
   "metadata": {},
   "source": [
    "### Cleaning Data"
   ]
  },
  {
   "cell_type": "markdown",
   "id": "1803fc05",
   "metadata": {},
   "source": [
    "#### Drop Unused Column"
   ]
  },
  {
   "cell_type": "code",
   "execution_count": null,
   "id": "67b426cb",
   "metadata": {},
   "outputs": [],
   "source": [
    "df = df.drop(columns=['Unnamed: 15', 'Unnamed: 16'], axis=1)"
   ]
  },
  {
   "cell_type": "markdown",
   "id": "0ba2b82a",
   "metadata": {},
   "source": [
    "#### Filter Exclude the NaN Value"
   ]
  },
  {
   "cell_type": "code",
   "execution_count": null,
   "id": "905f4e51",
   "metadata": {},
   "outputs": [],
   "source": [
    "df = df[df['Date'].notna()]"
   ]
  },
  {
   "cell_type": "markdown",
   "id": "b82e3805",
   "metadata": {},
   "source": [
    "#### Noticed that duplicated Value has been Eliminated"
   ]
  },
  {
   "cell_type": "code",
   "execution_count": null,
   "id": "50a79f20",
   "metadata": {},
   "outputs": [],
   "source": [
    "df.duplicated().sum()"
   ]
  },
  {
   "cell_type": "code",
   "execution_count": null,
   "id": "37f91e53",
   "metadata": {},
   "outputs": [],
   "source": [
    "df.tail()"
   ]
  },
  {
   "cell_type": "code",
   "execution_count": null,
   "id": "77f02043",
   "metadata": {},
   "outputs": [],
   "source": [
    "df.shape"
   ]
  },
  {
   "cell_type": "code",
   "execution_count": null,
   "id": "0a7c9435",
   "metadata": {},
   "outputs": [],
   "source": [
    "df.isnull().sum()"
   ]
  },
  {
   "cell_type": "markdown",
   "id": "9718cc0a",
   "metadata": {},
   "source": [
    "#### Change Data Type"
   ]
  },
  {
   "cell_type": "code",
   "execution_count": null,
   "id": "f6b03f0a",
   "metadata": {},
   "outputs": [],
   "source": [
    "cols=[\n",
    "    'CO(GT)', 'C6H6(GT)',\n",
    "    'T', 'RH', 'AH'\n",
    "]\n",
    "\n",
    "for col in cols:\n",
    "    df[col] = df[col].str.replace(',','.', regex=False).astype(float)\n",
    "    print(f\"Column {col} has been changed.\")"
   ]
  },
  {
   "cell_type": "code",
   "execution_count": null,
   "id": "330baea7",
   "metadata": {},
   "outputs": [],
   "source": [
    "#Column Date\n",
    "df['Date'] = pd.to_datetime(df['Date'], format='%d/%m/%Y', errors='coerce') # Ubah kolom 'Date' menjadi format datetime\n",
    "df['Date'] = pd.to_datetime(df['Date'])\n",
    "\n",
    "#Column Time\n",
    "df['Time'] = pd.to_datetime(df['Time'], format='%H.%M.%S', errors='coerce') # Ubah format 'Time' dari string ke datetime\n",
    "df['Time'] = df['Time'].dt.strftime('%H:%M') # Ubah dalam format \"HH:MM\""
   ]
  },
  {
   "cell_type": "code",
   "execution_count": null,
   "id": "bf29bd90",
   "metadata": {},
   "outputs": [],
   "source": [
    "df.sample(5)"
   ]
  },
  {
   "cell_type": "markdown",
   "id": "fbc3cee5",
   "metadata": {},
   "source": [
    "### Sneak Peak Correlation Matrix"
   ]
  },
  {
   "cell_type": "code",
   "execution_count": null,
   "id": "ff2b065f",
   "metadata": {},
   "outputs": [],
   "source": [
    "df.dtypes"
   ]
  },
  {
   "cell_type": "code",
   "execution_count": null,
   "id": "94b627b6",
   "metadata": {},
   "outputs": [],
   "source": [
    "# DROP index terlebih dahulu\n",
    "df.reset_index(drop=True, inplace=True)"
   ]
  },
  {
   "cell_type": "code",
   "execution_count": null,
   "id": "675486ba",
   "metadata": {},
   "outputs": [],
   "source": [
    "numeric_df = df.select_dtypes(include=['int32', 'int64', 'float64'])"
   ]
  },
  {
   "cell_type": "code",
   "execution_count": null,
   "id": "06d5e714",
   "metadata": {},
   "outputs": [],
   "source": [
    "# Buat heatmap korelasi\n",
    "plt.figure(figsize=(10, 8))\n",
    "sns.heatmap(numeric_df.corr(), annot=True, cmap='coolwarm', fmt=\".2f\")\n",
    "plt.title('Correlation Matrix of Numeric Columns')\n",
    "plt.tight_layout()\n",
    "# plt.savefig(\"correlation_heatmap.png\")\n",
    "plt.show()"
   ]
  },
  {
   "cell_type": "code",
   "execution_count": null,
   "id": "fa223e12",
   "metadata": {},
   "outputs": [],
   "source": [
    "#Next\n",
    "numeric_df.corr()"
   ]
  },
  {
   "cell_type": "markdown",
   "id": "efdeee01",
   "metadata": {},
   "source": [
    "### Outlier Analysis"
   ]
  },
  {
   "cell_type": "code",
   "execution_count": null,
   "id": "d96c34c9",
   "metadata": {},
   "outputs": [],
   "source": [
    "plt.figure(figsize=(10, 6))\n",
    "sns.histplot(df_model['T'], bins=100, kde=True)  # bins= menentukan jumlah interval\n",
    "plt.title('Distribusi Temperature (C)', fontsize=16)\n",
    "plt.xlabel('Temp', fontsize=12)\n",
    "plt.ylabel('Freq', fontsize=12)\n",
    "plt.show()"
   ]
  },
  {
   "cell_type": "code",
   "execution_count": null,
   "id": "e58f89af",
   "metadata": {},
   "outputs": [],
   "source": [
    "### drop Value -200\n",
    "df = df[df['T'] != -200]"
   ]
  },
  {
   "cell_type": "code",
   "execution_count": null,
   "id": "1fe9a278",
   "metadata": {},
   "outputs": [],
   "source": [
    "df.shape"
   ]
  },
  {
   "cell_type": "markdown",
   "id": "e23a76d9",
   "metadata": {},
   "source": [
    "#### Box Plot"
   ]
  },
  {
   "cell_type": "code",
   "execution_count": null,
   "id": "df198b90",
   "metadata": {},
   "outputs": [],
   "source": [
    "plt.figure(figsize=(10, 6))\n",
    "sns.boxplot(x=df['T'])\n",
    "plt.title('Temperatue (C)', fontsize=16)\n",
    "plt.xlabel('Degree', fontsize=12)\n",
    "plt.show()"
   ]
  },
  {
   "cell_type": "markdown",
   "id": "f3381caf",
   "metadata": {},
   "source": [
    "#### Z-Score"
   ]
  },
  {
   "cell_type": "code",
   "execution_count": null,
   "id": "6656add1",
   "metadata": {},
   "outputs": [],
   "source": [
    "from scipy.stats import zscore"
   ]
  },
  {
   "cell_type": "code",
   "execution_count": null,
   "id": "ee83bfa1",
   "metadata": {},
   "outputs": [],
   "source": [
    "df['Z_Temp'] = zscore(df['T'])"
   ]
  },
  {
   "cell_type": "code",
   "execution_count": null,
   "id": "9a24611c",
   "metadata": {},
   "outputs": [],
   "source": [
    "df[['T','Z_Temp']].head()"
   ]
  },
  {
   "cell_type": "code",
   "execution_count": null,
   "id": "5d228f38",
   "metadata": {},
   "outputs": [],
   "source": [
    "# Menentukan outlier (nilai Z-Score > 3 atau < -3)\n",
    "outliers = df[(df['Z_Temp'] <= -3) | (df['Z_Temp'] >= 3)]\n",
    "print(\"Outliers Detected:\\n\", outliers)"
   ]
  },
  {
   "cell_type": "code",
   "execution_count": null,
   "id": "d0dd9086",
   "metadata": {},
   "outputs": [],
   "source": [
    "# Visualisasi menggunakan Scatter Plot\n",
    "plt.figure(figsize=(15, 5))\n",
    "plt.scatter(df.index, df['Z_Temp'], label='Data', color='blue')\n",
    "\n",
    "# Menambahkan outlier ke plot\n",
    "plt.scatter(outliers.index, outliers['Z_Temp'], color='red', label='Outlier', s=100)\n",
    "plt.title('Scatter Plot Temp with Outlier')\n",
    "plt.xlabel('Index')\n",
    "plt.ylabel('Value')\n",
    "plt.legend()\n",
    "plt.show()"
   ]
  },
  {
   "cell_type": "markdown",
   "id": "b028cb83",
   "metadata": {},
   "source": [
    "### Analyze Value -200"
   ]
  },
  {
   "cell_type": "code",
   "execution_count": null,
   "id": "14fed904",
   "metadata": {},
   "outputs": [],
   "source": [
    "df.columns"
   ]
  },
  {
   "cell_type": "code",
   "execution_count": null,
   "id": "81cf19d5",
   "metadata": {},
   "outputs": [],
   "source": [
    "col1 = [\n",
    "    'CO(GT)', 'PT08.S1(CO)', 'NMHC(GT)', 'C6H6(GT)',\n",
    "    'PT08.S2(NMHC)', 'NOx(GT)', 'PT08.S3(NOx)', 'NO2(GT)', 'PT08.S4(NO2)',\n",
    "    'PT08.S5(O3)', 'T', 'RH', 'AH'\n",
    "]\n",
    "\n",
    "for cols in col1:\n",
    "    print(f\"Columns {cols} :\")\n",
    "    print(df[df[cols] == -200])"
   ]
  },
  {
   "cell_type": "code",
   "execution_count": null,
   "id": "887ed490",
   "metadata": {},
   "outputs": [],
   "source": [
    "df[(df['NO2(GT)'] == -200) & (df['NOx(GT)'] == -200) & (df['NMHC(GT)'] == -200) & (df['CO(GT)'] == -200)]"
   ]
  },
  {
   "cell_type": "code",
   "execution_count": null,
   "id": "bda70d20",
   "metadata": {},
   "outputs": [],
   "source": [
    "# DROP Column NMHC(GT) cause the value cannot compatible with Model\n",
    "df[df['NO2(GT)'] == -200].value_counts()"
   ]
  },
  {
   "cell_type": "code",
   "execution_count": null,
   "id": "a5dcdba9",
   "metadata": {},
   "outputs": [],
   "source": [
    "df.sample(5)"
   ]
  },
  {
   "cell_type": "code",
   "execution_count": null,
   "id": "fb2139d6",
   "metadata": {},
   "outputs": [],
   "source": [
    "df['NMHC(GT)'] == -200"
   ]
  },
  {
   "cell_type": "markdown",
   "id": "9aacddda",
   "metadata": {},
   "source": [
    "### Copy Model & Create New DF"
   ]
  },
  {
   "cell_type": "code",
   "execution_count": null,
   "id": "7d56bed4",
   "metadata": {},
   "outputs": [],
   "source": [
    "df_model = df.copy()"
   ]
  },
  {
   "cell_type": "code",
   "execution_count": null,
   "id": "7e314f49",
   "metadata": {},
   "outputs": [],
   "source": [
    "df_model.sample(5)"
   ]
  },
  {
   "cell_type": "code",
   "execution_count": null,
   "id": "31be6449",
   "metadata": {},
   "outputs": [],
   "source": [
    "df_model.dtypes"
   ]
  },
  {
   "cell_type": "code",
   "execution_count": null,
   "id": "5ff556d6",
   "metadata": {},
   "outputs": [],
   "source": [
    "df_model = df_model.drop('NMHC(GT)', axis=1)"
   ]
  },
  {
   "cell_type": "code",
   "execution_count": null,
   "id": "42982e8d",
   "metadata": {},
   "outputs": [],
   "source": [
    "df_model.columns"
   ]
  },
  {
   "cell_type": "code",
   "execution_count": null,
   "id": "63664366",
   "metadata": {},
   "outputs": [],
   "source": [
    "# DROP index terlebih dahulu\n",
    "df_model.reset_index(drop=True, inplace=True)"
   ]
  },
  {
   "cell_type": "code",
   "execution_count": null,
   "id": "dda97c80",
   "metadata": {},
   "outputs": [],
   "source": [
    "df_model.sample(8)"
   ]
  },
  {
   "cell_type": "code",
   "execution_count": null,
   "id": "ee30bcb7",
   "metadata": {},
   "outputs": [],
   "source": [
    "col_mod = [\n",
    "    'CO(GT)', 'NOx(GT)', 'NO2(GT)'\n",
    "]\n",
    "\n",
    "# Mengganti nilai -200 dengan rata-rata nilai sebelumnya dan sesudahnya\n",
    "for cols in col_mod:\n",
    "    for i in range(1, len(df_model) - 1):\n",
    "        if df_model.iloc[i][cols] == -200:  # Menggunakan iloc untuk akses berdasarkan posisi\n",
    "            prev_value = df_model.iloc[i - 1][cols]\n",
    "            next_value = df_model.iloc[i + 1][cols]\n",
    "            df_model.iloc[i, df_model.columns.get_loc(cols)] = (prev_value + next_value) / 2"
   ]
  },
  {
   "cell_type": "code",
   "execution_count": null,
   "id": "0b91be8f",
   "metadata": {},
   "outputs": [],
   "source": [
    "num_df= df.select_dtypes(['float64'])"
   ]
  },
  {
   "cell_type": "code",
   "execution_count": null,
   "id": "232c3ed9",
   "metadata": {},
   "outputs": [],
   "source": [
    "# Buat heatmap korelasi\n",
    "plt.figure(figsize=(10, 8))\n",
    "sns.heatmap(num_df.corr(), annot=True, cmap='coolwarm', fmt=\".2f\")\n",
    "plt.title('Correlation Matrix of Numeric Columns')\n",
    "plt.tight_layout()\n",
    "# plt.savefig(\"correlation_heatmap.png\")\n",
    "plt.show()"
   ]
  },
  {
   "cell_type": "code",
   "execution_count": null,
   "id": "487c9b51",
   "metadata": {},
   "outputs": [],
   "source": [
    "df_model[(df_model['NO2(GT)'] == -200) & (df_model['NOx(GT)'] == -200) & (df_model['CO(GT)'] == -200)]"
   ]
  },
  {
   "cell_type": "code",
   "execution_count": null,
   "id": "658e697b",
   "metadata": {},
   "outputs": [],
   "source": [
    "# df_model[df_model['CO(GT)'] == -200]\n",
    "# df_model.head(10)\n",
    "df_model.loc[600:700]"
   ]
  },
  {
   "cell_type": "markdown",
   "id": "676899b5",
   "metadata": {},
   "source": [
    "we will try to handling null value, symbolize by -200."
   ]
  },
  {
   "cell_type": "code",
   "execution_count": null,
   "id": "3ac64cac",
   "metadata": {},
   "outputs": [],
   "source": [
    "# Daftar kolom yang ingin diperbaiki\n",
    "col_mod = ['CO(GT)', 'NOx(GT)', 'NO2(GT)']\n",
    "\n",
    "# Ganti -200 dengan nilai NaN agar bisa diinterpolasi\n",
    "df_model[col_mod] = df_model[col_mod].replace(-200, pd.NA)\n",
    "\n",
    "# Konversi kolom ke tipe numerik (jika belum)\n",
    "for col in col_mod:\n",
    "    df_model[col] = pd.to_numeric(df_model[col], errors='coerce')\n",
    "\n",
    "# Lakukan interpolasi linier (berdasarkan index, karena datanya urut waktu)\n",
    "df_model[col_mod] = (df_model[col_mod].interpolate(method='linear')).round(3)\n",
    "\n",
    "# Jika masih ada NaN di awal atau akhir, bisa gunakan fill\n",
    "# df_model[col_mod] = df_model[col_mod].fillna(method='bfill').fillna(method='ffill') #past Code\n",
    "df_model[col_mod] = df_model[col_mod].bfill().ffill()\n",
    "\n",
    "#last method fill value with mean\n",
    "df_model[col_mod] = df_model[col_mod].fillna(value=df_model[col_mod].mean())"
   ]
  },
  {
   "cell_type": "code",
   "execution_count": null,
   "id": "a3ec5989",
   "metadata": {},
   "outputs": [],
   "source": [
    "df_model.dtypes"
   ]
  },
  {
   "cell_type": "markdown",
   "id": "87e42a23",
   "metadata": {},
   "source": [
    "#### Corr after Data Cleaning"
   ]
  },
  {
   "cell_type": "code",
   "execution_count": null,
   "id": "c8e4f7eb",
   "metadata": {},
   "outputs": [],
   "source": [
    "nums_df= df_model.select_dtypes(['float64'])"
   ]
  },
  {
   "cell_type": "code",
   "execution_count": null,
   "id": "7749c2ce",
   "metadata": {},
   "outputs": [],
   "source": [
    "# Buat heatmap korelasi\n",
    "plt.figure(figsize=(10, 8))\n",
    "sns.heatmap(nums_df.corr(), annot=True, cmap='coolwarm', fmt=\".2f\")\n",
    "plt.title('Correlation Matrix of Numeric Columns')\n",
    "plt.tight_layout()\n",
    "plt.show()"
   ]
  },
  {
   "cell_type": "code",
   "execution_count": null,
   "id": "53640499",
   "metadata": {},
   "outputs": [],
   "source": [
    "df_model[(df_model['NO2(GT)'] == -200) & (df_model['NOx(GT)'] == -200) & (df_model['CO(GT)'] == -200)]"
   ]
  },
  {
   "cell_type": "markdown",
   "id": "e86a019c",
   "metadata": {},
   "source": [
    "### Outlier Analysis after Cleaning"
   ]
  },
  {
   "cell_type": "code",
   "execution_count": null,
   "id": "111cbceb",
   "metadata": {},
   "outputs": [],
   "source": [
    "df_model = df_model[df_model['T'] != -200]"
   ]
  },
  {
   "cell_type": "code",
   "execution_count": null,
   "id": "d4af7797",
   "metadata": {},
   "outputs": [],
   "source": [
    "df_model.shape"
   ]
  },
  {
   "cell_type": "code",
   "execution_count": null,
   "id": "8d12c129",
   "metadata": {},
   "outputs": [],
   "source": [
    "df_model.columns"
   ]
  },
  {
   "cell_type": "code",
   "execution_count": null,
   "id": "557c7168",
   "metadata": {},
   "outputs": [],
   "source": [
    "col_clean = ['CO(GT)', 'PT08.S1(CO)', 'C6H6(GT)', 'PT08.S2(NMHC)', \n",
    "             'NOx(GT)', 'PT08.S3(NOx)', 'NO2(GT)', 'PT08.S4(NO2)', 'PT08.S5(O3)',\n",
    "             'T', 'RH', 'AH']\n",
    "\n",
    "for col in col_clean:\n",
    "    plt.figure(figsize=(8, 4))\n",
    "    sns.histplot(df_model[col], bins=100, kde=True)\n",
    "    plt.title(f'Distribusi {col}', fontsize=16)\n",
    "    plt.xlabel(col, fontsize=12)\n",
    "    plt.ylabel('Frekuensi', fontsize=12)\n",
    "    plt.show()"
   ]
  },
  {
   "cell_type": "code",
   "execution_count": null,
   "id": "6698025c",
   "metadata": {},
   "outputs": [],
   "source": [
    "### I think have a outlier in CO Distribution\n",
    "df_model['CO(GT)'].value_counts()"
   ]
  },
  {
   "cell_type": "code",
   "execution_count": null,
   "id": "9a4c7414",
   "metadata": {},
   "outputs": [],
   "source": []
  }
 ],
 "metadata": {
  "kernelspec": {
   "display_name": "Python 3",
   "language": "python",
   "name": "python3"
  },
  "language_info": {
   "codemirror_mode": {
    "name": "ipython",
    "version": 3
   },
   "file_extension": ".py",
   "mimetype": "text/x-python",
   "name": "python",
   "nbconvert_exporter": "python",
   "pygments_lexer": "ipython3",
   "version": "3.13.4"
  }
 },
 "nbformat": 4,
 "nbformat_minor": 5
}
